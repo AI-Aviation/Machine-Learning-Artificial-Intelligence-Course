{
 "cells": [
  {
   "cell_type": "markdown",
   "metadata": {},
   "source": [
    "# Titanic "
   ]
  },
  {
   "cell_type": "code",
   "execution_count": 1,
   "metadata": {},
   "outputs": [],
   "source": [
    "import matplotlib.pyplot as plt\n",
    "%matplotlib inline\n",
    "import random\n",
    "import numpy as np\n",
    "import pandas as pd\n",
    "from sklearn import datasets, svm, tree, preprocessing, metrics\n",
    "from sklearn.model_selection import train_test_split\n",
    "import sklearn.ensemble as ske\n",
    "import os"
   ]
  },
  {
   "cell_type": "code",
   "execution_count": 2,
   "metadata": {},
   "outputs": [],
   "source": [
    "# The lesson is adapted from a Kaggle competition."
   ]
  },
  {
   "cell_type": "markdown",
   "metadata": {},
   "source": [
    "## Load the data from the Kaggle competition."
   ]
  },
  {
   "cell_type": "code",
   "execution_count": 3,
   "metadata": {},
   "outputs": [
    {
     "data": {
      "text/html": [
       "<div>\n",
       "<style scoped>\n",
       "    .dataframe tbody tr th:only-of-type {\n",
       "        vertical-align: middle;\n",
       "    }\n",
       "\n",
       "    .dataframe tbody tr th {\n",
       "        vertical-align: top;\n",
       "    }\n",
       "\n",
       "    .dataframe thead th {\n",
       "        text-align: right;\n",
       "    }\n",
       "</style>\n",
       "<table border=\"1\" class=\"dataframe\">\n",
       "  <thead>\n",
       "    <tr style=\"text-align: right;\">\n",
       "      <th></th>\n",
       "      <th>pclass</th>\n",
       "      <th>survived</th>\n",
       "      <th>name</th>\n",
       "      <th>sex</th>\n",
       "      <th>age</th>\n",
       "      <th>sibsp</th>\n",
       "      <th>parch</th>\n",
       "      <th>ticket</th>\n",
       "      <th>fare</th>\n",
       "      <th>cabin</th>\n",
       "      <th>embarked</th>\n",
       "      <th>boat</th>\n",
       "      <th>body</th>\n",
       "      <th>home.dest</th>\n",
       "    </tr>\n",
       "  </thead>\n",
       "  <tbody>\n",
       "    <tr>\n",
       "      <th>0</th>\n",
       "      <td>1.0</td>\n",
       "      <td>1.0</td>\n",
       "      <td>Allen, Miss. Elisabeth Walton</td>\n",
       "      <td>female</td>\n",
       "      <td>29.0000</td>\n",
       "      <td>0.0</td>\n",
       "      <td>0.0</td>\n",
       "      <td>24160</td>\n",
       "      <td>211.3375</td>\n",
       "      <td>B5</td>\n",
       "      <td>S</td>\n",
       "      <td>2</td>\n",
       "      <td>NaN</td>\n",
       "      <td>St Louis, MO</td>\n",
       "    </tr>\n",
       "    <tr>\n",
       "      <th>1</th>\n",
       "      <td>1.0</td>\n",
       "      <td>1.0</td>\n",
       "      <td>Allison, Master. Hudson Trevor</td>\n",
       "      <td>male</td>\n",
       "      <td>0.9167</td>\n",
       "      <td>1.0</td>\n",
       "      <td>2.0</td>\n",
       "      <td>113781</td>\n",
       "      <td>151.5500</td>\n",
       "      <td>C22 C26</td>\n",
       "      <td>S</td>\n",
       "      <td>11</td>\n",
       "      <td>NaN</td>\n",
       "      <td>Montreal, PQ / Chesterville, ON</td>\n",
       "    </tr>\n",
       "    <tr>\n",
       "      <th>2</th>\n",
       "      <td>1.0</td>\n",
       "      <td>0.0</td>\n",
       "      <td>Allison, Miss. Helen Loraine</td>\n",
       "      <td>female</td>\n",
       "      <td>2.0000</td>\n",
       "      <td>1.0</td>\n",
       "      <td>2.0</td>\n",
       "      <td>113781</td>\n",
       "      <td>151.5500</td>\n",
       "      <td>C22 C26</td>\n",
       "      <td>S</td>\n",
       "      <td>NaN</td>\n",
       "      <td>NaN</td>\n",
       "      <td>Montreal, PQ / Chesterville, ON</td>\n",
       "    </tr>\n",
       "    <tr>\n",
       "      <th>3</th>\n",
       "      <td>1.0</td>\n",
       "      <td>0.0</td>\n",
       "      <td>Allison, Mr. Hudson Joshua Creighton</td>\n",
       "      <td>male</td>\n",
       "      <td>30.0000</td>\n",
       "      <td>1.0</td>\n",
       "      <td>2.0</td>\n",
       "      <td>113781</td>\n",
       "      <td>151.5500</td>\n",
       "      <td>C22 C26</td>\n",
       "      <td>S</td>\n",
       "      <td>NaN</td>\n",
       "      <td>135.0</td>\n",
       "      <td>Montreal, PQ / Chesterville, ON</td>\n",
       "    </tr>\n",
       "    <tr>\n",
       "      <th>4</th>\n",
       "      <td>1.0</td>\n",
       "      <td>0.0</td>\n",
       "      <td>Allison, Mrs. Hudson J C (Bessie Waldo Daniels)</td>\n",
       "      <td>female</td>\n",
       "      <td>25.0000</td>\n",
       "      <td>1.0</td>\n",
       "      <td>2.0</td>\n",
       "      <td>113781</td>\n",
       "      <td>151.5500</td>\n",
       "      <td>C22 C26</td>\n",
       "      <td>S</td>\n",
       "      <td>NaN</td>\n",
       "      <td>NaN</td>\n",
       "      <td>Montreal, PQ / Chesterville, ON</td>\n",
       "    </tr>\n",
       "  </tbody>\n",
       "</table>\n",
       "</div>"
      ],
      "text/plain": [
       "   pclass  survived                                             name     sex  \\\n",
       "0     1.0       1.0                    Allen, Miss. Elisabeth Walton  female   \n",
       "1     1.0       1.0                   Allison, Master. Hudson Trevor    male   \n",
       "2     1.0       0.0                     Allison, Miss. Helen Loraine  female   \n",
       "3     1.0       0.0             Allison, Mr. Hudson Joshua Creighton    male   \n",
       "4     1.0       0.0  Allison, Mrs. Hudson J C (Bessie Waldo Daniels)  female   \n",
       "\n",
       "       age  sibsp  parch  ticket      fare    cabin embarked boat   body  \\\n",
       "0  29.0000    0.0    0.0   24160  211.3375       B5        S    2    NaN   \n",
       "1   0.9167    1.0    2.0  113781  151.5500  C22 C26        S   11    NaN   \n",
       "2   2.0000    1.0    2.0  113781  151.5500  C22 C26        S  NaN    NaN   \n",
       "3  30.0000    1.0    2.0  113781  151.5500  C22 C26        S  NaN  135.0   \n",
       "4  25.0000    1.0    2.0  113781  151.5500  C22 C26        S  NaN    NaN   \n",
       "\n",
       "                         home.dest  \n",
       "0                     St Louis, MO  \n",
       "1  Montreal, PQ / Chesterville, ON  \n",
       "2  Montreal, PQ / Chesterville, ON  \n",
       "3  Montreal, PQ / Chesterville, ON  \n",
       "4  Montreal, PQ / Chesterville, ON  "
      ]
     },
     "execution_count": 3,
     "metadata": {},
     "output_type": "execute_result"
    }
   ],
   "source": [
    "titanic_df = pd.read_csv(os.path.normpath('../Data/titanic3.csv'))\n",
    "# This data represents almost 80% of the passengers.\n",
    "# The crew is not included.\n",
    "titanic_df.head()"
   ]
  },
  {
   "cell_type": "markdown",
   "metadata": {},
   "source": [
    "## Explore the Data"
   ]
  },
  {
   "cell_type": "code",
   "execution_count": 4,
   "metadata": {},
   "outputs": [
    {
     "data": {
      "text/plain": [
       "(1310, 14)"
      ]
     },
     "execution_count": 4,
     "metadata": {},
     "output_type": "execute_result"
    }
   ],
   "source": [
    "titanic_df.shape"
   ]
  },
  {
   "cell_type": "code",
   "execution_count": 5,
   "metadata": {},
   "outputs": [],
   "source": [
    "# 1310 passengers\n",
    "# 14 columns"
   ]
  },
  {
   "cell_type": "code",
   "execution_count": 6,
   "metadata": {},
   "outputs": [],
   "source": [
    "# The column heading variables have the following meanings:\n",
    "\n",
    "# pclass - Passenger Class (1 = 1st; 2 = 2nd; 3 = 3rd)\n",
    "# survived - Survival (0 = No; 1 = Yes)\n",
    "# name - Name\n",
    "# sex - Sex\n",
    "# age - Age\n",
    "# sibsp - Number of Siblings/Spouses Aboard\n",
    "# parch - Number of Parents/Children Aboard\n",
    "# ticket - Ticket Number\n",
    "# fare - Passenger Fare in pre-1970 British Pounds\n",
    "# cabin - Cabin\n",
    "# embarked - Port of Embarkation (C = Cherbourg; Q = Queenstown; S = Southampton)\n",
    "# boat - Lifeboat number (if survived)\n",
    "# body - Body number (if did not survive and body was recovered)\n",
    "# home.dest - Home and destination"
   ]
  },
  {
   "cell_type": "code",
   "execution_count": 7,
   "metadata": {},
   "outputs": [
    {
     "name": "stdout",
     "output_type": "stream",
     "text": [
      "Average chance of surviving: 38.2%\n"
     ]
    }
   ],
   "source": [
    "# Average chance of survival\n",
    "print(\"Average chance of surviving: {0:4.1f}%\".format(100*titanic_df['survived'].mean()))"
   ]
  },
  {
   "cell_type": "code",
   "execution_count": 8,
   "metadata": {},
   "outputs": [],
   "source": [
    "# Social classes were heavily stratified in the early 20th, and this was especially true \n",
    "# on the Titanic where the luxurious 1st class areas were completely off limits to the \n",
    "# middle-class passengers of 2nd class, and especially to those who carried a 3rd class\n",
    "# “economy price” ticket. To get a view into the composition of each class, we can group \n",
    "# data by class, and view the averages for each column:"
   ]
  },
  {
   "cell_type": "code",
   "execution_count": 9,
   "metadata": {},
   "outputs": [
    {
     "data": {
      "text/html": [
       "<div>\n",
       "<style scoped>\n",
       "    .dataframe tbody tr th:only-of-type {\n",
       "        vertical-align: middle;\n",
       "    }\n",
       "\n",
       "    .dataframe tbody tr th {\n",
       "        vertical-align: top;\n",
       "    }\n",
       "\n",
       "    .dataframe thead th {\n",
       "        text-align: right;\n",
       "    }\n",
       "</style>\n",
       "<table border=\"1\" class=\"dataframe\">\n",
       "  <thead>\n",
       "    <tr style=\"text-align: right;\">\n",
       "      <th></th>\n",
       "      <th>survived</th>\n",
       "      <th>age</th>\n",
       "      <th>sibsp</th>\n",
       "      <th>parch</th>\n",
       "      <th>fare</th>\n",
       "      <th>body</th>\n",
       "    </tr>\n",
       "    <tr>\n",
       "      <th>pclass</th>\n",
       "      <th></th>\n",
       "      <th></th>\n",
       "      <th></th>\n",
       "      <th></th>\n",
       "      <th></th>\n",
       "      <th></th>\n",
       "    </tr>\n",
       "  </thead>\n",
       "  <tbody>\n",
       "    <tr>\n",
       "      <th>1.0</th>\n",
       "      <td>0.619</td>\n",
       "      <td>39.160</td>\n",
       "      <td>0.437</td>\n",
       "      <td>0.365</td>\n",
       "      <td>87.509</td>\n",
       "      <td>162.829</td>\n",
       "    </tr>\n",
       "    <tr>\n",
       "      <th>2.0</th>\n",
       "      <td>0.430</td>\n",
       "      <td>29.507</td>\n",
       "      <td>0.394</td>\n",
       "      <td>0.368</td>\n",
       "      <td>21.179</td>\n",
       "      <td>167.387</td>\n",
       "    </tr>\n",
       "    <tr>\n",
       "      <th>3.0</th>\n",
       "      <td>0.255</td>\n",
       "      <td>24.816</td>\n",
       "      <td>0.568</td>\n",
       "      <td>0.401</td>\n",
       "      <td>13.303</td>\n",
       "      <td>155.818</td>\n",
       "    </tr>\n",
       "  </tbody>\n",
       "</table>\n",
       "</div>"
      ],
      "text/plain": [
       "        survived     age  sibsp  parch    fare     body\n",
       "pclass                                                 \n",
       "1.0        0.619  39.160  0.437  0.365  87.509  162.829\n",
       "2.0        0.430  29.507  0.394  0.368  21.179  167.387\n",
       "3.0        0.255  24.816  0.568  0.401  13.303  155.818"
      ]
     },
     "execution_count": 9,
     "metadata": {},
     "output_type": "execute_result"
    }
   ],
   "source": [
    "titanic_df.groupby('pclass').mean().round(3)"
   ]
  },
  {
   "cell_type": "code",
   "execution_count": 10,
   "metadata": {},
   "outputs": [],
   "source": [
    "# We can start drawing some interesting insights from this data. For instance, passengers\n",
    "# in 1st class had a 62% chance of survival, compared to a 25.5% chance for those in 3rd \n",
    "# class. Additionally, the lower classes generally consisted of younger people, and the\n",
    "# ticket prices for first class were predictably much higher than those for second and \n",
    "# third class. The average ticket price for first class, £87.5, is equivalent to $13,487 \n",
    "# in 2016."
   ]
  },
  {
   "cell_type": "code",
   "execution_count": 11,
   "metadata": {},
   "outputs": [],
   "source": [
    "# We can extend our statistical breakdown using the grouping function for both class and sex:"
   ]
  },
  {
   "cell_type": "code",
   "execution_count": 12,
   "metadata": {},
   "outputs": [
    {
     "data": {
      "text/html": [
       "<div>\n",
       "<style scoped>\n",
       "    .dataframe tbody tr th:only-of-type {\n",
       "        vertical-align: middle;\n",
       "    }\n",
       "\n",
       "    .dataframe tbody tr th {\n",
       "        vertical-align: top;\n",
       "    }\n",
       "\n",
       "    .dataframe thead th {\n",
       "        text-align: right;\n",
       "    }\n",
       "</style>\n",
       "<table border=\"1\" class=\"dataframe\">\n",
       "  <thead>\n",
       "    <tr style=\"text-align: right;\">\n",
       "      <th></th>\n",
       "      <th></th>\n",
       "      <th>survived</th>\n",
       "      <th>age</th>\n",
       "      <th>sibsp</th>\n",
       "      <th>parch</th>\n",
       "      <th>fare</th>\n",
       "      <th>body</th>\n",
       "    </tr>\n",
       "    <tr>\n",
       "      <th>pclass</th>\n",
       "      <th>sex</th>\n",
       "      <th></th>\n",
       "      <th></th>\n",
       "      <th></th>\n",
       "      <th></th>\n",
       "      <th></th>\n",
       "      <th></th>\n",
       "    </tr>\n",
       "  </thead>\n",
       "  <tbody>\n",
       "    <tr>\n",
       "      <th rowspan=\"2\" valign=\"top\">1.0</th>\n",
       "      <th>female</th>\n",
       "      <td>0.965</td>\n",
       "      <td>37.038</td>\n",
       "      <td>0.556</td>\n",
       "      <td>0.472</td>\n",
       "      <td>109.412</td>\n",
       "      <td>NaN</td>\n",
       "    </tr>\n",
       "    <tr>\n",
       "      <th>male</th>\n",
       "      <td>0.341</td>\n",
       "      <td>41.029</td>\n",
       "      <td>0.341</td>\n",
       "      <td>0.279</td>\n",
       "      <td>69.888</td>\n",
       "      <td>162.829</td>\n",
       "    </tr>\n",
       "    <tr>\n",
       "      <th rowspan=\"2\" valign=\"top\">2.0</th>\n",
       "      <th>female</th>\n",
       "      <td>0.887</td>\n",
       "      <td>27.499</td>\n",
       "      <td>0.500</td>\n",
       "      <td>0.651</td>\n",
       "      <td>23.235</td>\n",
       "      <td>52.000</td>\n",
       "    </tr>\n",
       "    <tr>\n",
       "      <th>male</th>\n",
       "      <td>0.146</td>\n",
       "      <td>30.815</td>\n",
       "      <td>0.327</td>\n",
       "      <td>0.193</td>\n",
       "      <td>19.905</td>\n",
       "      <td>171.233</td>\n",
       "    </tr>\n",
       "    <tr>\n",
       "      <th rowspan=\"2\" valign=\"top\">3.0</th>\n",
       "      <th>female</th>\n",
       "      <td>0.491</td>\n",
       "      <td>22.185</td>\n",
       "      <td>0.792</td>\n",
       "      <td>0.731</td>\n",
       "      <td>15.324</td>\n",
       "      <td>183.000</td>\n",
       "    </tr>\n",
       "    <tr>\n",
       "      <th>male</th>\n",
       "      <td>0.152</td>\n",
       "      <td>25.962</td>\n",
       "      <td>0.471</td>\n",
       "      <td>0.256</td>\n",
       "      <td>12.415</td>\n",
       "      <td>151.854</td>\n",
       "    </tr>\n",
       "  </tbody>\n",
       "</table>\n",
       "</div>"
      ],
      "text/plain": [
       "               survived     age  sibsp  parch     fare     body\n",
       "pclass sex                                                     \n",
       "1.0    female     0.965  37.038  0.556  0.472  109.412      NaN\n",
       "       male       0.341  41.029  0.341  0.279   69.888  162.829\n",
       "2.0    female     0.887  27.499  0.500  0.651   23.235   52.000\n",
       "       male       0.146  30.815  0.327  0.193   19.905  171.233\n",
       "3.0    female     0.491  22.185  0.792  0.731   15.324  183.000\n",
       "       male       0.152  25.962  0.471  0.256   12.415  151.854"
      ]
     },
     "execution_count": 12,
     "metadata": {},
     "output_type": "execute_result"
    }
   ],
   "source": [
    "class_sex_grouping = titanic_df.groupby(['pclass','sex']).mean().round(3)\n",
    "class_sex_grouping"
   ]
  },
  {
   "cell_type": "code",
   "execution_count": 13,
   "metadata": {},
   "outputs": [
    {
     "data": {
      "text/plain": [
       "<matplotlib.axes._subplots.AxesSubplot at 0x28ac714ff28>"
      ]
     },
     "execution_count": 13,
     "metadata": {},
     "output_type": "execute_result"
    },
    {
     "data": {
      "image/png": "[encoded data removed]",
      "text/plain": [
       "<Figure size 432x288 with 1 Axes>"
      ]
     },
     "metadata": {
      "needs_background": "light"
     },
     "output_type": "display_data"
    }
   ],
   "source": [
    "class_sex_grouping['survived'].plot.bar()"
   ]
  },
  {
   "cell_type": "code",
   "execution_count": 14,
   "metadata": {},
   "outputs": [],
   "source": [
    "# While the Titanic was sinking, the officers famously prioritized who was allowed \n",
    "# in a lifeboat with the strict maritime tradition of evacuating women and children \n",
    "# first. \n",
    "# Our statistical results clearly reflect the first part of this policy, as across \n",
    "# all classes women were much more likely to survive than the men. We can also see \n",
    "# that the women were younger than the men on average, were more likely to be travel."
   ]
  },
  {
   "cell_type": "code",
   "execution_count": 15,
   "metadata": {},
   "outputs": [
    {
     "data": {
      "text/plain": [
       "<matplotlib.axes._subplots.AxesSubplot at 0x28acad75b00>"
      ]
     },
     "execution_count": 15,
     "metadata": {},
     "output_type": "execute_result"
    },
    {
     "data": {
      "image/png": "[encoded data removed]",
      "text/plain": [
       "<Figure size 432x288 with 1 Axes>"
      ]
     },
     "metadata": {
      "needs_background": "light"
     },
     "output_type": "display_data"
    }
   ],
   "source": [
    "# The effectiveness of the second part of this “Women and children first” policy \n",
    "# can be deduced by breaking down the survival rate by age.\n",
    "group_by_age = pd.cut(titanic_df[\"age\"], np.arange(0, 90, 10))\n",
    "age_grouping = titanic_df.groupby(group_by_age).mean()\n",
    "age_grouping['survived'].plot.bar()"
   ]
  },
  {
   "cell_type": "code",
   "execution_count": 16,
   "metadata": {},
   "outputs": [],
   "source": [
    "# We can see that children had the higher chance of surviving but not a great chance!"
   ]
  },
  {
   "cell_type": "markdown",
   "metadata": {},
   "source": [
    "## Preparing The Data for Machine Learning"
   ]
  },
  {
   "cell_type": "code",
   "execution_count": 17,
   "metadata": {},
   "outputs": [],
   "source": [
    "# Before we can feed our dataset into a machine learning algorithm, we have to remove missing\n",
    "# values and split it into training and test sets.\n",
    "\n",
    "# If we perform a count of each column, we will see that much of the data on certain fields is \n",
    "# missing. Most machine learning algorithms will have a difficult time handling missing values, \n",
    "# so we will need to make sure that each row has a value for each column."
   ]
  },
  {
   "cell_type": "code",
   "execution_count": 18,
   "metadata": {},
   "outputs": [
    {
     "data": {
      "text/plain": [
       "pclass       1309\n",
       "survived     1309\n",
       "name         1309\n",
       "sex          1309\n",
       "age          1046\n",
       "sibsp        1309\n",
       "parch        1309\n",
       "ticket       1309\n",
       "fare         1308\n",
       "cabin         295\n",
       "embarked     1307\n",
       "boat          486\n",
       "body          121\n",
       "home.dest     745\n",
       "dtype: int64"
      ]
     },
     "execution_count": 18,
     "metadata": {},
     "output_type": "execute_result"
    }
   ],
   "source": [
    "titanic_df.count()"
   ]
  },
  {
   "cell_type": "code",
   "execution_count": 19,
   "metadata": {},
   "outputs": [
    {
     "data": {
      "text/plain": [
       "pclass       1043\n",
       "survived     1043\n",
       "name         1043\n",
       "sex          1043\n",
       "age          1043\n",
       "sibsp        1043\n",
       "parch        1043\n",
       "ticket       1043\n",
       "fare         1043\n",
       "embarked     1043\n",
       "home.dest    1043\n",
       "dtype: int64"
      ]
     },
     "execution_count": 19,
     "metadata": {},
     "output_type": "execute_result"
    }
   ],
   "source": [
    "# Most of the rows are missing values for “boat” and “cabin”, so we will remove these \n",
    "# columns from the data frame. A large number of rows are also missing the “home.dest” \n",
    "# field; here we fill the missing values with “NA”. A significant number rows are also \n",
    "# missing an age value. We have seen above that age could have a significant effect on \n",
    "# survival chances, so we will have to drop all of rows that are missing an age value.\n",
    "# When we run the count command again we can see that all remaining columns now contain\n",
    "# the same number of values.\n",
    "\n",
    "titanic_df = titanic_df.drop(['body','cabin','boat'], axis=1)\n",
    "titanic_df[\"home.dest\"] = titanic_df[\"home.dest\"].fillna(\"NA\")\n",
    "titanic_df = titanic_df.dropna()\n",
    "titanic_df.count()"
   ]
  },
  {
   "cell_type": "code",
   "execution_count": 20,
   "metadata": {},
   "outputs": [],
   "source": [
    "# Now we need to format the remaining data in a way that our machine learning algorithms will accept."
   ]
  },
  {
   "cell_type": "code",
   "execution_count": 21,
   "metadata": {},
   "outputs": [],
   "source": [
    "# The “sex” and “embarked” fields are both string values that correspond to categories(i.e “Male”\n",
    "# and “Female”) so we will run each through a preprocessor. This preprocessor will convert these \n",
    "# strings into integer keys, making it easier for the classification algorithms to find patterns.\n",
    "# For instance, “Male” and “Female” will be converted to 0 and 1 respectively. The “name”, “ticket”, \n",
    "# and “home.dest” columns consist of non-categorical string values, and as such are difficult to\n",
    "# use in a classification algorithm, so we will drop them from the dataset.\n",
    "\n",
    "def preprocess_titanic_df(df):\n",
    "    processed_df = df.copy()\n",
    "    le = preprocessing.LabelEncoder()\n",
    "    processed_df.sex = le.fit_transform(processed_df.sex)\n",
    "    processed_df.embarked = le.fit_transform(processed_df.embarked)\n",
    "    processed_df = processed_df.drop(['name','ticket','home.dest'],axis=1)\n",
    "    return processed_df\n",
    "\n",
    "processed_df = preprocess_titanic_df(titanic_df)"
   ]
  },
  {
   "cell_type": "code",
   "execution_count": 22,
   "metadata": {},
   "outputs": [],
   "source": [
    "X = processed_df.drop(['survived'], axis=1).values"
   ]
  },
  {
   "cell_type": "code",
   "execution_count": 23,
   "metadata": {},
   "outputs": [],
   "source": [
    "y = processed_df['survived'].values"
   ]
  },
  {
   "cell_type": "code",
   "execution_count": 24,
   "metadata": {},
   "outputs": [
    {
     "data": {
      "text/plain": [
       "array([[  1.    ,   0.    ,  29.    , ...,   0.    , 211.3375,   2.    ],\n",
       "       [  1.    ,   1.    ,   0.9167, ...,   2.    , 151.55  ,   2.    ],\n",
       "       [  1.    ,   0.    ,   2.    , ...,   2.    , 151.55  ,   2.    ],\n",
       "       ...,\n",
       "       [  3.    ,   1.    ,  26.5   , ...,   0.    ,   7.225 ,   0.    ],\n",
       "       [  3.    ,   1.    ,  27.    , ...,   0.    ,   7.225 ,   0.    ],\n",
       "       [  3.    ,   1.    ,  29.    , ...,   0.    ,   7.875 ,   2.    ]])"
      ]
     },
     "execution_count": 24,
     "metadata": {},
     "output_type": "execute_result"
    }
   ],
   "source": [
    "X"
   ]
  },
  {
   "cell_type": "code",
   "execution_count": 25,
   "metadata": {},
   "outputs": [
    {
     "data": {
      "text/plain": [
       "array([1., 1., 0., ..., 0., 0., 0.])"
      ]
     },
     "execution_count": 25,
     "metadata": {},
     "output_type": "execute_result"
    }
   ],
   "source": [
    "y"
   ]
  },
  {
   "cell_type": "code",
   "execution_count": 26,
   "metadata": {},
   "outputs": [],
   "source": [
    "# Next we separate the dataset into two arrays, “X” containing all of the values for each row besides\n",
    "# “survived”, and “y” containing only the “survived” value for that row. The classification algorithms \n",
    "# will compare the attribute values of “X” to the corresponding values of “y” in order to detect \n",
    "# patterns in how different attributes values tend to affect the survival of a passenger.\n",
    "\n",
    "# Finally we break the “X” and “y” array into two parts each - a training set and a testing set. \n",
    "# We will feed the training set into the classification algorithm in order to form a trained model. \n",
    "# Once the model is formed, we will use it to classify the testing set, allowing us to determine\n",
    "# the accuracy of the model. Here we have have made a 20/80 split, such that 80% of the dataset \n",
    "# will be used for training and 20% will be used for testing."
   ]
  },
  {
   "cell_type": "code",
   "execution_count": 27,
   "metadata": {},
   "outputs": [],
   "source": [
    "X_train, X_test, y_train, y_test = train_test_split(X, y, test_size = 0.2)"
   ]
  },
  {
   "cell_type": "code",
   "execution_count": 28,
   "metadata": {},
   "outputs": [],
   "source": [
    "# Classification - The Fun Part\n",
    "\n",
    "# We will start off with a simple decision tree classifier. A decision tree examines one variable \n",
    "# at a time, and splits into one of two branches based on the result of that value, at which point\n",
    "# it does the same for the next variable. "
   ]
  },
  {
   "attachments": {
    "bf220315-ff4d-4748-9ce8-57225548aef1.jpg": {
     "image/jpeg": "[encoded data removed]"
    }
   },
   "cell_type": "markdown",
   "metadata": {},
   "source": [
    "![socialcops-tree.jpg](attachment:bf220315-ff4d-4748-9ce8-57225548aef1.jpg)"
   ]
  },
  {
   "cell_type": "code",
   "execution_count": 29,
   "metadata": {},
   "outputs": [],
   "source": [
    "clf_dt = tree.DecisionTreeClassifier(max_depth=10)"
   ]
  },
  {
   "cell_type": "code",
   "execution_count": 30,
   "metadata": {},
   "outputs": [
    {
     "data": {
      "text/plain": [
       "0.7799043062200957"
      ]
     },
     "execution_count": 30,
     "metadata": {},
     "output_type": "execute_result"
    }
   ],
   "source": [
    "clf_dt.fit (X_train, y_train)\n",
    "clf_dt.score (X_test, y_test)"
   ]
  },
  {
   "cell_type": "code",
   "execution_count": 31,
   "metadata": {},
   "outputs": [
    {
     "name": "stdout",
     "output_type": "stream",
     "text": [
      "Accuracy: 0.7709 (+/- 0.02)\n"
     ]
    }
   ],
   "source": [
    "from sklearn.model_selection import ShuffleSplit\n",
    "#shuffle_validator = ShuffleSplit(len(X), n_iter=20, test_size=0.2, random_state=0)\n",
    "shuffle_validator = ShuffleSplit(n_splits=20, test_size=.25, random_state=0)\n",
    "\n",
    "from sklearn.model_selection import cross_val_score\n",
    "def test_classifier(clf):\n",
    "    scores = cross_val_score(clf, X, y, cv=shuffle_validator)\n",
    "    print(\"Accuracy: %0.4f (+/- %0.2f)\" % (scores.mean(), scores.std()))\n",
    "\n",
    "test_classifier(clf_dt)"
   ]
  },
  {
   "cell_type": "code",
   "execution_count": 32,
   "metadata": {},
   "outputs": [
    {
     "name": "stdout",
     "output_type": "stream",
     "text": [
      "Accuracy: 0.7837 (+/- 0.02)\n",
      "Accuracy: 0.8132 (+/- 0.02)\n",
      "Accuracy: 0.8044 (+/- 0.02)\n"
     ]
    }
   ],
   "source": [
    "# Let's compare the results to some other classifiers\n",
    "\n",
    "clf_rf = ske.RandomForestClassifier(n_estimators=50)\n",
    "test_classifier(clf_rf)\n",
    "\n",
    "# Accuracy: 0.7837 (+/- 0.02)\n",
    "\n",
    "clf_gb = ske.GradientBoostingClassifier(n_estimators=50)\n",
    "test_classifier(clf_gb)\n",
    "\n",
    "# Accuracy: 0.8201 (+/- 0.02)\n",
    "\n",
    "eclf = ske.VotingClassifier([('dt', clf_dt), ('rf', clf_rf), ('gb', clf_gb)])\n",
    "test_classifier(eclf)\n"
   ]
  },
  {
   "cell_type": "code",
   "execution_count": 33,
   "metadata": {},
   "outputs": [],
   "source": [
    "# Class assignment 1\n",
    "\n",
    "# Choose 3 other classifiers from Scikit-learn and compare results."
   ]
  },
  {
   "cell_type": "code",
   "execution_count": 34,
   "metadata": {},
   "outputs": [],
   "source": [
    "# Class assignment 2\n",
    "\n",
    "# Using the SKlearn documentation, tune the hyperparameters to optimize accuracy."
   ]
  }
 ],
 "metadata": {
  "kernelspec": {
   "display_name": "Python 3",
   "language": "python",
   "name": "python3"
  },
  "language_info": {
   "codemirror_mode": {
    "name": "ipython",
    "version": 3
   },
   "file_extension": ".py",
   "mimetype": "text/x-python",
   "name": "python",
   "nbconvert_exporter": "python",
   "pygments_lexer": "ipython3",
   "version": "3.7.3"
  }
 },
 "nbformat": 4,
 "nbformat_minor": 5
}
