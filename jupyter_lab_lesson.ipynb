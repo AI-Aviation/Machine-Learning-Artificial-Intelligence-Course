{
 "cells": [
  {
   "cell_type": "markdown",
   "metadata": {},
   "source": [
    "# Kernels"
   ]
  },
  {
   "cell_type": "code",
   "execution_count": 1,
   "metadata": {},
   "outputs": [],
   "source": [
    "# Kernels in JupyterLab are environments.\n",
    "# Note the kernel name in the upper right corner of this notebook ---->\n",
    "# Do not change it as it will break some of the code used in this class."
   ]
  },
  {
   "cell_type": "markdown",
   "metadata": {},
   "source": [
    "# Math Code"
   ]
  },
  {
   "cell_type": "code",
   "execution_count": 2,
   "metadata": {},
   "outputs": [],
   "source": [
    "# Lets do some simple math.\n",
    "x=1"
   ]
  },
  {
   "cell_type": "code",
   "execution_count": 3,
   "metadata": {},
   "outputs": [],
   "source": [
    "x=2"
   ]
  },
  {
   "cell_type": "code",
   "execution_count": 4,
   "metadata": {},
   "outputs": [],
   "source": [
    "y=x"
   ]
  },
  {
   "cell_type": "code",
   "execution_count": 5,
   "metadata": {},
   "outputs": [
    {
     "name": "stdout",
     "output_type": "stream",
     "text": [
      "2\n"
     ]
    }
   ],
   "source": [
    "print(y)"
   ]
  },
  {
   "cell_type": "markdown",
   "metadata": {},
   "source": [
    "# Moving Cells"
   ]
  },
  {
   "cell_type": "code",
   "execution_count": 6,
   "metadata": {},
   "outputs": [],
   "source": [
    "# Drag a cell to a different location \n",
    "# --- Drag the cell with 'x=2' to below and re-run the cells above.\n",
    "# --- Is you answer '1' now?"
   ]
  },
  {
   "cell_type": "code",
   "execution_count": 7,
   "metadata": {},
   "outputs": [],
   "source": [
    "# Open a console by selecting File | New | Console\n",
    "# Choose the same kernel that your are currently using for the class.\n",
    "# Once created, drag and drop the console so that is located beloe this notebook.\n",
    "# Now close the console."
   ]
  },
  {
   "cell_type": "code",
   "execution_count": 8,
   "metadata": {},
   "outputs": [],
   "source": [
    "# Review the menus"
   ]
  },
  {
   "cell_type": "code",
   "execution_count": 9,
   "metadata": {},
   "outputs": [],
   "source": [
    "# Enable showing the line numbers to help with errors.\n",
    "# -- View | Show line numbers "
   ]
  },
  {
   "cell_type": "markdown",
   "metadata": {},
   "source": [
    "# Importing a library"
   ]
  },
  {
   "cell_type": "code",
   "execution_count": 10,
   "metadata": {},
   "outputs": [
    {
     "ename": "ModuleNotFoundError",
     "evalue": "No module named 'sklearn'",
     "output_type": "error",
     "traceback": [
      "\u001b[1;31m---------------------------------------------------------------------------\u001b[0m",
      "\u001b[1;31mModuleNotFoundError\u001b[0m                       Traceback (most recent call last)",
      "Input \u001b[1;32mIn [10]\u001b[0m, in \u001b[0;36m<cell line: 3>\u001b[1;34m()\u001b[0m\n\u001b[0;32m      1\u001b[0m \u001b[38;5;28;01mimport\u001b[39;00m \u001b[38;5;21;01mmath\u001b[39;00m\n\u001b[0;32m      2\u001b[0m \u001b[38;5;28;01mimport\u001b[39;00m \u001b[38;5;21;01mnumpy\u001b[39;00m \u001b[38;5;28;01mas\u001b[39;00m \u001b[38;5;21;01mnp\u001b[39;00m\n\u001b[1;32m----> 3\u001b[0m \u001b[38;5;28;01mfrom\u001b[39;00m \u001b[38;5;21;01msklearn\u001b[39;00m\u001b[38;5;21;01m.\u001b[39;00m\u001b[38;5;21;01mensemble\u001b[39;00m \u001b[38;5;28;01mimport\u001b[39;00m BaggingClassifier\n",
      "\u001b[1;31mModuleNotFoundError\u001b[0m: No module named 'sklearn'"
     ]
    }
   ],
   "source": [
    "import math\n",
    "import numpy as np\n",
    "from sklearn.ensemble import BaggingClassifier"
   ]
  },
  {
   "cell_type": "markdown",
   "metadata": {},
   "source": [
    "# for-loop"
   ]
  },
  {
   "cell_type": "code",
   "execution_count": 19,
   "metadata": {},
   "outputs": [
    {
     "name": "stdout",
     "output_type": "stream",
     "text": [
      "0\n",
      "1\n",
      "2\n",
      "3\n",
      "4\n",
      "5\n",
      "6\n",
      "7\n",
      "8\n",
      "9\n"
     ]
    }
   ],
   "source": [
    "for i in range(10):\n",
    "    print(i)\n",
    "       \n",
    "# Note that indententation is very important."
   ]
  },
  {
   "cell_type": "markdown",
   "metadata": {},
   "source": [
    "# if...else Statements"
   ]
  },
  {
   "cell_type": "markdown",
   "metadata": {},
   "source": [
    "## if"
   ]
  },
  {
   "cell_type": "code",
   "execution_count": 22,
   "metadata": {},
   "outputs": [
    {
     "name": "stdout",
     "output_type": "stream",
     "text": [
      "Pi squared = 3.141592653589793\n"
     ]
    }
   ],
   "source": [
    "A = True\n",
    "\n",
    "if (A):\n",
    "    C = (math.pi)\n",
    "    print(\"Pi squared = {}\".format(C))      "
   ]
  },
  {
   "cell_type": "markdown",
   "metadata": {},
   "source": [
    "## if-else"
   ]
  },
  {
   "cell_type": "code",
   "execution_count": 21,
   "metadata": {},
   "outputs": [
    {
     "name": "stdout",
     "output_type": "stream",
     "text": [
      "The square root of Pi is: 1.7724538509055159\n"
     ]
    }
   ],
   "source": [
    "A = False\n",
    "B = True\n",
    "if (A):\n",
    "    C = (math.pi)\n",
    "    print(\"Pi squared = {}\".format(C))    \n",
    "else:\n",
    "    C = math.sqrt(math.pi)\n",
    "    print(\"The square root of Pi is: {}\".format(C))"
   ]
  },
  {
   "cell_type": "markdown",
   "metadata": {},
   "source": [
    "## if-elif-else"
   ]
  },
  {
   "cell_type": "code",
   "execution_count": 26,
   "metadata": {},
   "outputs": [
    {
     "name": "stdout",
     "output_type": "stream",
     "text": [
      "Nothing to do\n"
     ]
    }
   ],
   "source": [
    "A = False\n",
    "B = False\n",
    "if (A):\n",
    "    C = (math.pi)\n",
    "    print(\"Pi squared = {}\".format(C))    \n",
    "elif (B):\n",
    "    C = math.sqrt(math.pi)\n",
    "    print(\"The square root of Pi is: {}\".format(C))\n",
    "else: \n",
    "    print(\"Nothing to do\")"
   ]
  },
  {
   "cell_type": "markdown",
   "metadata": {},
   "source": [
    "# Show the current directory"
   ]
  },
  {
   "cell_type": "code",
   "execution_count": 27,
   "metadata": {},
   "outputs": [
    {
     "data": {
      "text/plain": [
       "\"C:\\\\Users\\\\o'donnell\\\\Documents\\\\AI_Course\""
      ]
     },
     "execution_count": 27,
     "metadata": {},
     "output_type": "execute_result"
    }
   ],
   "source": [
    "import os\n",
    "cwd = os.getcwd()\n",
    "cwd"
   ]
  },
  {
   "cell_type": "markdown",
   "metadata": {},
   "source": [
    "# Show the versions of critical stuff."
   ]
  },
  {
   "cell_type": "markdown",
   "metadata": {},
   "source": [
    "## Show the version of Python for this kernel"
   ]
  },
  {
   "cell_type": "code",
   "execution_count": 38,
   "metadata": {},
   "outputs": [
    {
     "name": "stdout",
     "output_type": "stream",
     "text": [
      "User Current Version:- 3.8.12 (default, Oct 12 2021, 03:01:40) [MSC v.1916 64 bit (AMD64)]\n",
      "Current Python Version- 3.8.12\n"
     ]
    }
   ],
   "source": [
    "import sys\n",
    "print(\"User Current Version:-\", sys.version)\n",
    "\n",
    "from platform import python_version \n",
    "print(\"Current Python Version-\", python_version())"
   ]
  },
  {
   "cell_type": "markdown",
   "metadata": {},
   "source": [
    "## Show the version of Jupyter Lab"
   ]
  },
  {
   "cell_type": "code",
   "execution_count": 39,
   "metadata": {},
   "outputs": [
    {
     "name": "stdout",
     "output_type": "stream",
     "text": [
      "Selected Jupyter core packages...\n",
      "IPython          : 8.2.0\n",
      "ipykernel        : 6.9.1\n",
      "ipywidgets       : not installed\n",
      "jupyter_client   : 7.2.2\n",
      "jupyter_core     : 4.9.2\n",
      "jupyter_server   : not installed\n",
      "jupyterlab       : not installed\n",
      "nbclient         : not installed\n",
      "nbconvert        : not installed\n",
      "nbformat         : not installed\n",
      "notebook         : not installed\n",
      "qtconsole        : not installed\n",
      "traitlets        : 5.1.1\n"
     ]
    }
   ],
   "source": [
    "!jupyter --version"
   ]
  },
  {
   "cell_type": "markdown",
   "metadata": {},
   "source": [
    "## Show the version of ipython"
   ]
  },
  {
   "cell_type": "code",
   "execution_count": 30,
   "metadata": {},
   "outputs": [
    {
     "name": "stdout",
     "output_type": "stream",
     "text": [
      "# packages in environment at C:\\Anaconda3\\envs\\FAA:\n",
      "#\n",
      "# Name                    Version                   Build  Channel\n",
      "ipython                   8.2.0            py38haa95532_0    anaconda\n"
     ]
    }
   ],
   "source": [
    "!conda list ipython"
   ]
  },
  {
   "cell_type": "markdown",
   "metadata": {},
   "source": [
    "## Show the version of Sikit-Learn"
   ]
  },
  {
   "cell_type": "code",
   "execution_count": 40,
   "metadata": {},
   "outputs": [
    {
     "name": "stdout",
     "output_type": "stream",
     "text": [
      "0.24.1\n"
     ]
    }
   ],
   "source": [
    "import sklearn\n",
    "print(sklearn.__version__)"
   ]
  },
  {
   "cell_type": "markdown",
   "metadata": {},
   "source": [
    "# Pip, Anaconda, Conda, Environments"
   ]
  },
  {
   "cell_type": "markdown",
   "metadata": {},
   "source": [
    "## Show packages and their versions using Conda"
   ]
  },
  {
   "cell_type": "code",
   "execution_count": 33,
   "metadata": {},
   "outputs": [
    {
     "name": "stdout",
     "output_type": "stream",
     "text": [
      "# packages in environment at C:\\Anaconda3\\envs\\FAA:\n",
      "#\n",
      "# Name                    Version                   Build  Channel\n",
      "asttokens                 2.0.5              pyhd3eb1b0_0    anaconda\n",
      "backcall                  0.2.0              pyhd3eb1b0_0    anaconda\n",
      "blas                      1.0                         mkl  \n",
      "ca-certificates           2022.4.26            haa95532_0    anaconda\n",
      "certifi                   2021.10.8        py38haa95532_2    anaconda\n",
      "colorama                  0.4.4              pyhd3eb1b0_0    anaconda\n",
      "debugpy                   1.5.1            py38hd77b12b_0    anaconda\n",
      "decorator                 5.1.1              pyhd3eb1b0_0    anaconda\n",
      "entrypoints               0.4              py38haa95532_0    anaconda\n",
      "executing                 0.8.3              pyhd3eb1b0_0    anaconda\n",
      "icc_rt                    2019.0.0             h0cc432a_1  \n",
      "intel-openmp              2021.4.0          haa95532_3556  \n",
      "ipykernel                 6.9.1            py38haa95532_0    anaconda\n",
      "ipython                   8.2.0            py38haa95532_0    anaconda\n",
      "jedi                      0.18.1           py38haa95532_1    anaconda\n",
      "joblib                    1.1.0              pyhd3eb1b0_0  \n",
      "jupyter_client            7.2.2            py38haa95532_0    anaconda\n",
      "jupyter_core              4.9.2            py38haa95532_0    anaconda\n",
      "matplotlib-inline         0.1.2              pyhd3eb1b0_2    anaconda\n",
      "mkl                       2021.4.0           haa95532_640  \n",
      "mkl-service               2.4.0            py38h2bbff1b_0  \n",
      "mkl_fft                   1.3.1            py38h277e83a_0  \n",
      "mkl_random                1.2.2            py38hf11a4ad_0  \n",
      "nest-asyncio              1.5.5            py38haa95532_0    anaconda\n",
      "numpy                     1.20.2           py38ha4e8547_0  \n",
      "numpy-base                1.20.2           py38hc2deb75_0  \n",
      "openssl                   1.1.1n               h2bbff1b_0    anaconda\n",
      "parso                     0.8.3              pyhd3eb1b0_0    anaconda\n",
      "pickleshare               0.7.5           pyhd3eb1b0_1003    anaconda\n",
      "pip                       21.2.2           py38haa95532_0  \n",
      "prompt-toolkit            3.0.20             pyhd3eb1b0_0    anaconda\n",
      "pure_eval                 0.2.2              pyhd3eb1b0_0    anaconda\n",
      "pygments                  2.11.2             pyhd3eb1b0_0    anaconda\n",
      "python                    3.8.12               h6244533_0  \n",
      "python-dateutil           2.8.2              pyhd3eb1b0_0    anaconda\n",
      "pywin32                   302              py38h2bbff1b_2    anaconda\n",
      "pyzmq                     22.3.0           py38hd77b12b_2    anaconda\n",
      "scikit-learn              0.24.1           py38hf11a4ad_0  \n",
      "scipy                     1.7.3            py38h0a974cb_0  \n",
      "setuptools                61.2.0           py38haa95532_0  \n",
      "six                       1.16.0             pyhd3eb1b0_1  \n",
      "sqlite                    3.38.2               h2bbff1b_0  \n",
      "stack_data                0.2.0              pyhd3eb1b0_0    anaconda\n",
      "threadpoolctl             2.2.0              pyh0d69192_0  \n",
      "tornado                   6.1              py38h2bbff1b_0    anaconda\n",
      "traitlets                 5.1.1              pyhd3eb1b0_0    anaconda\n",
      "vc                        14.2                 h21ff451_1  \n",
      "vs2015_runtime            14.27.29016          h5e58377_2  \n",
      "wcwidth                   0.2.5              pyhd3eb1b0_0    anaconda\n",
      "wheel                     0.37.1             pyhd3eb1b0_0  \n",
      "wincertstore              0.2              py38haa95532_2  \n"
     ]
    }
   ],
   "source": [
    "!conda list"
   ]
  }
 ],
 "metadata": {
  "kernelspec": {
   "display_name": "FAA",
   "language": "python",
   "name": "faa"
  },
  "language_info": {
   "codemirror_mode": {
    "name": "ipython",
    "version": 3
   },
   "file_extension": ".py",
   "mimetype": "text/x-python",
   "name": "python",
   "nbconvert_exporter": "python",
   "pygments_lexer": "ipython3",
   "version": "3.8.12"
  }
 },
 "nbformat": 4,
 "nbformat_minor": 5
}
